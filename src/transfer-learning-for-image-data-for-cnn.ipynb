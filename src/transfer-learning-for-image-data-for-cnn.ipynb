{
 "cells": [
  {
   "cell_type": "markdown",
   "metadata": {},
   "source": [
    "# Imports"
   ]
  },
  {
   "cell_type": "code",
   "execution_count": 43,
   "metadata": {},
   "outputs": [],
   "source": [
    "import os, sys, random, time, copy, glob\n",
    "\n",
    "import numpy as np\n",
    "import pandas as pd\n",
    "import matplotlib.pyplot as plt\n",
    "\n",
    "import torch\n",
    "import torch.optim as optim\n",
    "import torch.nn as nn\n",
    "import torch.nn.functional as F\n",
    "\n",
    "import lightning as L\n",
    "\n",
    "from torch.utils.data import DataLoader, Dataset\n",
    "from torchvision.models import resnet18, ResNet18_Weights\n",
    "from torchvision import transforms\n",
    "\n",
    "from torchmetrics.aggregation import RunningMean\n",
    "\n",
    "from sklearn.metrics import classification_report, accuracy_score\n",
    "from sklearn.metrics import roc_auc_score, f1_score\n",
    "from sklearn.model_selection import train_test_split\n",
    "\n",
    "from torchinfo import summary\n",
    "\n",
    "from PIL import Image\n",
    "\n",
    "import warnings\n",
    "\n",
    "import matplotlib.pyplot as plt\n",
    "\n",
    "warnings.filterwarnings(\"ignore\")"
   ]
  },
  {
   "cell_type": "code",
   "execution_count": 2,
   "metadata": {},
   "outputs": [],
   "source": [
    "os.chdir(\"applied-ml-assignment-5/src\")"
   ]
  },
  {
   "cell_type": "markdown",
   "metadata": {},
   "source": [
    "# Setting up the data"
   ]
  },
  {
   "cell_type": "code",
   "execution_count": 3,
   "metadata": {},
   "outputs": [],
   "source": [
    "CHICKEN_IMAGES_PATH = \"../data/chicken/data\"\n",
    "DUCK_IMAGES_PATH = \"../data/duck/data\""
   ]
  },
  {
   "cell_type": "code",
   "execution_count": 4,
   "metadata": {},
   "outputs": [],
   "source": [
    "def create_annotations_file(paths: list[str]):\n",
    "    # training dataset\n",
    "    train = pd.DataFrame(columns=[\"path\", \"class\"])\n",
    "    for path in paths:\n",
    "        full_path = os.path.join(path, \"train\")\n",
    "        image_names = [f\"{path}/train/{_}\" for _ in os.listdir(full_path)[:100]]\n",
    "        label = path.split(\"/\")[2]\n",
    "        temp = pd.DataFrame({\"path\": image_names, \"class\": label})\n",
    "        train = pd.concat([train, temp])\n",
    "\n",
    "    # validation dataset\n",
    "    val = pd.DataFrame(columns=[\"path\", \"class\"])\n",
    "    for path in paths:\n",
    "        full_path = os.path.join(path, \"val\")\n",
    "        image_names = [f\"{path}/val/{_}\" for _ in os.listdir(full_path)[:50]]\n",
    "        label = path.split(\"/\")[2]\n",
    "        temp = pd.DataFrame({\"path\": image_names, \"class\": label})\n",
    "        val = pd.concat([val, temp])\n",
    "\n",
    "    # test dataset\n",
    "    test = pd.DataFrame(columns=[\"path\", \"class\"])\n",
    "    for path in paths:\n",
    "        full_path = os.path.join(path, \"test\")\n",
    "        image_names = [f\"{path}/test/{_}\" for _ in os.listdir(full_path)[:100]]\n",
    "        label = path.split(\"/\")[2]\n",
    "        temp = pd.DataFrame({\"path\": image_names, \"class\": label})\n",
    "        test = pd.concat([test, temp])\n",
    "\n",
    "    train = train.reset_index(drop=True)\n",
    "    val = val.reset_index(drop=True)\n",
    "    test = test.reset_index(drop=True)\n",
    "\n",
    "    return train, val, test\n",
    "\n",
    "\n",
    "train, val, test = create_annotations_file([CHICKEN_IMAGES_PATH, DUCK_IMAGES_PATH])"
   ]
  },
  {
   "cell_type": "markdown",
   "metadata": {},
   "source": [
    "Next we will create the dataset"
   ]
  },
  {
   "cell_type": "code",
   "execution_count": 5,
   "metadata": {},
   "outputs": [],
   "source": [
    "class ChickenOrDuck(Dataset):\n",
    "\n",
    "    def __init__(\n",
    "        self, annotations_file, transforms=transforms.Compose([transforms.ToTensor()])\n",
    "    ):\n",
    "        super().__init__()\n",
    "        self.annotations_file = annotations_file\n",
    "        self.transforms = transforms\n",
    "\n",
    "    def __getitem__(self, index):\n",
    "        image_path = self.annotations_file.loc[index, \"path\"]\n",
    "        image_class = self.annotations_file.loc[index, \"class\"]\n",
    "        image_label = 1 if image_class == \"chicken\" else 0\n",
    "\n",
    "        image = Image.open(image_path).convert(\"RGB\")\n",
    "        image = image.resize((128, 128))\n",
    "        image = self.transforms(image)\n",
    "\n",
    "        return image, image_label\n",
    "\n",
    "    def __len__(self):\n",
    "        return len(self.annotations_file)"
   ]
  },
  {
   "cell_type": "code",
   "execution_count": 6,
   "metadata": {},
   "outputs": [],
   "source": [
    "mean, std = [0.485, 0.456, 0.406], [0.229, 0.224, 0.225]\n",
    "image_transforms = {\n",
    "    \"train\": transforms.Compose(\n",
    "        [\n",
    "            transforms.RandomHorizontalFlip(),\n",
    "            transforms.RandomVerticalFlip(),\n",
    "            transforms.ColorJitter(brightness=0.2, contrast=0.2),\n",
    "            transforms.ToTensor(),\n",
    "            transforms.Normalize(mean=mean, std=std),\n",
    "        ]\n",
    "    ),\n",
    "    \"val\": transforms.Compose(\n",
    "        [\n",
    "            transforms.ToTensor(),\n",
    "            transforms.Normalize(mean=mean, std=std),\n",
    "        ]\n",
    "    ),\n",
    "}\n",
    "\n",
    "train_dataset = ChickenOrDuck(train, image_transforms[\"train\"])\n",
    "val_dataset = ChickenOrDuck(val, image_transforms[\"val\"])\n",
    "test_dataset = ChickenOrDuck(test, image_transforms[\"val\"])"
   ]
  },
  {
   "cell_type": "markdown",
   "metadata": {},
   "source": [
    "## Training Hyperparameters"
   ]
  },
  {
   "cell_type": "code",
   "execution_count": 44,
   "metadata": {},
   "outputs": [],
   "source": [
    "BATCH_SIZE = 20\n",
    "LR = 2e-3\n",
    "DEVICE = \"cuda\" if torch.cuda.is_available() else \"cpu\""
   ]
  },
  {
   "cell_type": "code",
   "execution_count": 45,
   "metadata": {},
   "outputs": [],
   "source": [
    "train_dataloader = DataLoader(train_dataset, batch_size=BATCH_SIZE, shuffle=True)\n",
    "val_dataloader = DataLoader(val_dataset, batch_size=BATCH_SIZE, shuffle=True)"
   ]
  },
  {
   "cell_type": "code",
   "execution_count": 52,
   "metadata": {},
   "outputs": [],
   "source": [
    "train_running_metric = RunningMean(window=5)\n",
    "val_running_metric = RunningMean(window=5)\n",
    "\n",
    "training_loss = []\n",
    "training_acc = []\n",
    "val_loss = []\n",
    "val_acc = []\n",
    "\n",
    "\n",
    "class ImagenetTransferLearning(L.LightningModule):\n",
    "    def __init__(self):\n",
    "        super().__init__()\n",
    "\n",
    "        backbone = resnet18(ResNet18_Weights.IMAGENET1K_V1)\n",
    "        layers = list(backbone.children())\n",
    "        num_in = backbone.fc.in_features\n",
    "        num_target_classes = 2\n",
    "        layers[-1] = nn.Sequential(\n",
    "            *[nn.Flatten(), nn.Linear(num_in, num_target_classes)]\n",
    "        )\n",
    "        # self.full_model = nn.Sequential(*layers)\n",
    "        self.classifier = layers[-1]\n",
    "        self.feature_extractor = nn.Sequential(*layers[:-1])\n",
    "\n",
    "    def training_step(self, batch, batch_idx, datalaoder_idx=None):\n",
    "        x, y = batch\n",
    "        with torch.no_grad():\n",
    "            representations = self.feature_extractor(x)\n",
    "        x = self.classifier(representations)\n",
    "        loss = F.cross_entropy(x, y)\n",
    "        pred = torch.argmax(x, dim=1).cpu().numpy()\n",
    "        true = y.cpu().numpy()\n",
    "        _ = train_running_metric(accuracy_score(true, pred) * 100)\n",
    "        accuracy = train_running_metric.compute()\n",
    "        self.log(\"train_loss\", loss, prog_bar=True)\n",
    "        self.log(\"train acc\", accuracy, prog_bar=True)\n",
    "        training_loss.append(loss.cpu().item())\n",
    "        training_acc.append(accuracy.cpu().item())\n",
    "        return loss\n",
    "\n",
    "    def configure_optimizers(self):\n",
    "        optimizer = optim.Adam(\n",
    "            params=filter(lambda p: p.requires_grad, self.classifier.parameters()),\n",
    "            lr=LR,\n",
    "        )\n",
    "        return optimizer\n",
    "\n",
    "    def validation_step(self, batch, batch_idx, dataloader_idx=None):\n",
    "        x, y = batch\n",
    "        x = self.feature_extractor(x)\n",
    "        x = self.classifier(x)\n",
    "        loss = F.cross_entropy(x, y)\n",
    "        pred = torch.argmax(x, dim=1).cpu().numpy()\n",
    "        true = y.cpu().numpy()\n",
    "        _ = val_running_metric(accuracy_score(true, pred) * 100)\n",
    "        accuracy = val_running_metric.compute()\n",
    "        val_loss.append(loss.cpu().item())\n",
    "        val_acc.append(accuracy.cpu().item())\n",
    "        self.log(\"validation\", loss, prog_bar=True)\n",
    "        self.log(\"validation acc\", accuracy, prog_bar=True)"
   ]
  },
  {
   "cell_type": "code",
   "execution_count": 53,
   "metadata": {},
   "outputs": [
    {
     "name": "stderr",
     "output_type": "stream",
     "text": [
      "GPU available: False, used: False\n",
      "TPU available: False, using: 0 TPU cores\n",
      "IPU available: False, using: 0 IPUs\n",
      "HPU available: False, using: 0 HPUs\n",
      "\n",
      "  | Name              | Type       | Params\n",
      "-------------------------------------------------\n",
      "0 | classifier        | Sequential | 1.0 K \n",
      "1 | feature_extractor | Sequential | 11.2 M\n",
      "-------------------------------------------------\n",
      "11.2 M    Trainable params\n",
      "0         Non-trainable params\n",
      "11.2 M    Total params\n",
      "44.710    Total estimated model params size (MB)\n"
     ]
    },
    {
     "data": {
      "application/vnd.jupyter.widget-view+json": {
       "model_id": "7f407a25996f4161bf672b37149e9d7b",
       "version_major": 2,
       "version_minor": 0
      },
      "text/plain": [
       "Sanity Checking: |          | 0/? [00:00<?, ?it/s]"
      ]
     },
     "metadata": {},
     "output_type": "display_data"
    },
    {
     "data": {
      "application/vnd.jupyter.widget-view+json": {
       "model_id": "70dd9212e1c6456aac2a3d31232891cf",
       "version_major": 2,
       "version_minor": 0
      },
      "text/plain": [
       "Training: |          | 0/? [00:00<?, ?it/s]"
      ]
     },
     "metadata": {},
     "output_type": "display_data"
    },
    {
     "data": {
      "application/vnd.jupyter.widget-view+json": {
       "model_id": "8de37799bfc94d839b8b0e53fbf7b94d",
       "version_major": 2,
       "version_minor": 0
      },
      "text/plain": [
       "Validation: |          | 0/? [00:00<?, ?it/s]"
      ]
     },
     "metadata": {},
     "output_type": "display_data"
    },
    {
     "data": {
      "application/vnd.jupyter.widget-view+json": {
       "model_id": "ffefd3f911894a27a87487c73c0889dd",
       "version_major": 2,
       "version_minor": 0
      },
      "text/plain": [
       "Validation: |          | 0/? [00:00<?, ?it/s]"
      ]
     },
     "metadata": {},
     "output_type": "display_data"
    },
    {
     "data": {
      "application/vnd.jupyter.widget-view+json": {
       "model_id": "48cb3ee7eece44b1be1559c84b82810f",
       "version_major": 2,
       "version_minor": 0
      },
      "text/plain": [
       "Validation: |          | 0/? [00:00<?, ?it/s]"
      ]
     },
     "metadata": {},
     "output_type": "display_data"
    },
    {
     "data": {
      "application/vnd.jupyter.widget-view+json": {
       "model_id": "989244a7137c4b54a32ecd10ded96fda",
       "version_major": 2,
       "version_minor": 0
      },
      "text/plain": [
       "Validation: |          | 0/? [00:00<?, ?it/s]"
      ]
     },
     "metadata": {},
     "output_type": "display_data"
    },
    {
     "data": {
      "application/vnd.jupyter.widget-view+json": {
       "model_id": "dd3942afca174d70ac2ed2ac94c9715a",
       "version_major": 2,
       "version_minor": 0
      },
      "text/plain": [
       "Validation: |          | 0/? [00:00<?, ?it/s]"
      ]
     },
     "metadata": {},
     "output_type": "display_data"
    },
    {
     "data": {
      "application/vnd.jupyter.widget-view+json": {
       "model_id": "942753c7274a488786f2713a3d07924f",
       "version_major": 2,
       "version_minor": 0
      },
      "text/plain": [
       "Validation: |          | 0/? [00:00<?, ?it/s]"
      ]
     },
     "metadata": {},
     "output_type": "display_data"
    },
    {
     "data": {
      "application/vnd.jupyter.widget-view+json": {
       "model_id": "31115dec4f1740f9918591e45169406a",
       "version_major": 2,
       "version_minor": 0
      },
      "text/plain": [
       "Validation: |          | 0/? [00:00<?, ?it/s]"
      ]
     },
     "metadata": {},
     "output_type": "display_data"
    },
    {
     "data": {
      "application/vnd.jupyter.widget-view+json": {
       "model_id": "d2b2153e9735447aafce12ad498d15d4",
       "version_major": 2,
       "version_minor": 0
      },
      "text/plain": [
       "Validation: |          | 0/? [00:00<?, ?it/s]"
      ]
     },
     "metadata": {},
     "output_type": "display_data"
    },
    {
     "data": {
      "application/vnd.jupyter.widget-view+json": {
       "model_id": "4aaf20c0fa5f4897bc37e71e400c0a61",
       "version_major": 2,
       "version_minor": 0
      },
      "text/plain": [
       "Validation: |          | 0/? [00:00<?, ?it/s]"
      ]
     },
     "metadata": {},
     "output_type": "display_data"
    },
    {
     "data": {
      "application/vnd.jupyter.widget-view+json": {
       "model_id": "a3c89594bfde40e9873f06a4478ce868",
       "version_major": 2,
       "version_minor": 0
      },
      "text/plain": [
       "Validation: |          | 0/? [00:00<?, ?it/s]"
      ]
     },
     "metadata": {},
     "output_type": "display_data"
    },
    {
     "data": {
      "application/vnd.jupyter.widget-view+json": {
       "model_id": "55d6c6fc54844347861018ccf7a33f74",
       "version_major": 2,
       "version_minor": 0
      },
      "text/plain": [
       "Validation: |          | 0/? [00:00<?, ?it/s]"
      ]
     },
     "metadata": {},
     "output_type": "display_data"
    },
    {
     "data": {
      "application/vnd.jupyter.widget-view+json": {
       "model_id": "504a07cbdfbd40558781b2294c26a806",
       "version_major": 2,
       "version_minor": 0
      },
      "text/plain": [
       "Validation: |          | 0/? [00:00<?, ?it/s]"
      ]
     },
     "metadata": {},
     "output_type": "display_data"
    },
    {
     "data": {
      "application/vnd.jupyter.widget-view+json": {
       "model_id": "4d7a5d273ee44c1081ea6c475a460e62",
       "version_major": 2,
       "version_minor": 0
      },
      "text/plain": [
       "Validation: |          | 0/? [00:00<?, ?it/s]"
      ]
     },
     "metadata": {},
     "output_type": "display_data"
    },
    {
     "data": {
      "application/vnd.jupyter.widget-view+json": {
       "model_id": "f52c70958f234c0599a92a83b0784f24",
       "version_major": 2,
       "version_minor": 0
      },
      "text/plain": [
       "Validation: |          | 0/? [00:00<?, ?it/s]"
      ]
     },
     "metadata": {},
     "output_type": "display_data"
    },
    {
     "data": {
      "application/vnd.jupyter.widget-view+json": {
       "model_id": "d0e4c74e15e64a16bdf5ab05e7505f2f",
       "version_major": 2,
       "version_minor": 0
      },
      "text/plain": [
       "Validation: |          | 0/? [00:00<?, ?it/s]"
      ]
     },
     "metadata": {},
     "output_type": "display_data"
    },
    {
     "data": {
      "application/vnd.jupyter.widget-view+json": {
       "model_id": "0c1a63eae59b46369e7f3428092fabc1",
       "version_major": 2,
       "version_minor": 0
      },
      "text/plain": [
       "Validation: |          | 0/? [00:00<?, ?it/s]"
      ]
     },
     "metadata": {},
     "output_type": "display_data"
    },
    {
     "data": {
      "application/vnd.jupyter.widget-view+json": {
       "model_id": "427f3913f019438bb479573652c8cbfa",
       "version_major": 2,
       "version_minor": 0
      },
      "text/plain": [
       "Validation: |          | 0/? [00:00<?, ?it/s]"
      ]
     },
     "metadata": {},
     "output_type": "display_data"
    },
    {
     "data": {
      "application/vnd.jupyter.widget-view+json": {
       "model_id": "e6f3a6363f7146a991cda20d9c2d10cb",
       "version_major": 2,
       "version_minor": 0
      },
      "text/plain": [
       "Validation: |          | 0/? [00:00<?, ?it/s]"
      ]
     },
     "metadata": {},
     "output_type": "display_data"
    },
    {
     "data": {
      "application/vnd.jupyter.widget-view+json": {
       "model_id": "70359a4585344444be83624628afa2d9",
       "version_major": 2,
       "version_minor": 0
      },
      "text/plain": [
       "Validation: |          | 0/? [00:00<?, ?it/s]"
      ]
     },
     "metadata": {},
     "output_type": "display_data"
    },
    {
     "data": {
      "application/vnd.jupyter.widget-view+json": {
       "model_id": "2496339597844549b9d7fde9cc0e5f55",
       "version_major": 2,
       "version_minor": 0
      },
      "text/plain": [
       "Validation: |          | 0/? [00:00<?, ?it/s]"
      ]
     },
     "metadata": {},
     "output_type": "display_data"
    },
    {
     "data": {
      "application/vnd.jupyter.widget-view+json": {
       "model_id": "6fbbeace6d17439b99261ad835b22fbc",
       "version_major": 2,
       "version_minor": 0
      },
      "text/plain": [
       "Validation: |          | 0/? [00:00<?, ?it/s]"
      ]
     },
     "metadata": {},
     "output_type": "display_data"
    },
    {
     "data": {
      "application/vnd.jupyter.widget-view+json": {
       "model_id": "dda37bb4621941088287c5d55bcbe179",
       "version_major": 2,
       "version_minor": 0
      },
      "text/plain": [
       "Validation: |          | 0/? [00:00<?, ?it/s]"
      ]
     },
     "metadata": {},
     "output_type": "display_data"
    },
    {
     "data": {
      "application/vnd.jupyter.widget-view+json": {
       "model_id": "d3cadeef2fc7408e8e0cb20b07b64d73",
       "version_major": 2,
       "version_minor": 0
      },
      "text/plain": [
       "Validation: |          | 0/? [00:00<?, ?it/s]"
      ]
     },
     "metadata": {},
     "output_type": "display_data"
    },
    {
     "data": {
      "application/vnd.jupyter.widget-view+json": {
       "model_id": "04839dbf3fc843a68b9aa26c2626aac4",
       "version_major": 2,
       "version_minor": 0
      },
      "text/plain": [
       "Validation: |          | 0/? [00:00<?, ?it/s]"
      ]
     },
     "metadata": {},
     "output_type": "display_data"
    },
    {
     "data": {
      "application/vnd.jupyter.widget-view+json": {
       "model_id": "77d251b4141342db8b7370442e7d5a85",
       "version_major": 2,
       "version_minor": 0
      },
      "text/plain": [
       "Validation: |          | 0/? [00:00<?, ?it/s]"
      ]
     },
     "metadata": {},
     "output_type": "display_data"
    },
    {
     "name": "stderr",
     "output_type": "stream",
     "text": [
      "`Trainer.fit` stopped: `max_epochs=25` reached.\n"
     ]
    }
   ],
   "source": [
    "model = ImagenetTransferLearning()\n",
    "trainer = L.Trainer(\n",
    "    max_epochs=25,\n",
    ")\n",
    "trainer.fit(model, train_dataloader, val_dataloader)"
   ]
  },
  {
   "cell_type": "code",
   "execution_count": 57,
   "metadata": {},
   "outputs": [
    {
     "data": {
      "text/plain": [
       "250"
      ]
     },
     "execution_count": 57,
     "metadata": {},
     "output_type": "execute_result"
    }
   ],
   "source": [
    "training_acc = [_.item() for _ in training_acc]\n",
    "val_acc = [_.item() for _ in val_acc]"
   ]
  },
  {
   "cell_type": "code",
   "execution_count": null,
   "metadata": {},
   "outputs": [],
   "source": [
    "plt.line"
   ]
  }
 ],
 "metadata": {
  "kernelspec": {
   "display_name": "cloudspace",
   "language": "python",
   "name": "python3"
  },
  "language_info": {
   "codemirror_mode": {
    "name": "ipython",
    "version": 3
   },
   "file_extension": ".py",
   "mimetype": "text/x-python",
   "name": "python",
   "nbconvert_exporter": "python",
   "pygments_lexer": "ipython3",
   "version": "3.10.14"
  }
 },
 "nbformat": 4,
 "nbformat_minor": 2
}
